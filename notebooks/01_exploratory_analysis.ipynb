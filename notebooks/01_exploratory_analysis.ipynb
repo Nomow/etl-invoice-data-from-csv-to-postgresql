{
 "nbformat": 4,
 "nbformat_minor": 0,
 "metadata": {
  "colab": {
   "provenance": [],
   "collapsed_sections": [
    "Mf_HKOJ8rcHy",
    "rJQYK9pdsR2G"
   ]
  },
  "kernelspec": {
   "name": "python3",
   "language": "python",
   "display_name": "Python 3 (ipykernel)"
  },
  "language_info": {
   "name": "python"
  }
 },
 "cells": [
  {
   "cell_type": "code",
   "execution_count": 1,
   "metadata": {
    "id": "HeqVRsCZZ3nO",
    "ExecuteTime": {
     "end_time": "2023-05-10T01:04:22.111222152Z",
     "start_time": "2023-05-10T01:04:21.869776908Z"
    }
   },
   "outputs": [],
   "source": [
    "import pandas as pd\n",
    "import numpy as np\n",
    "from IPython.display import display, HTML\n",
    "import math\n"
   ]
  },
  {
   "cell_type": "code",
   "source": [
    "def display_unique_vals(df, col_name):\n",
    "  values = set(df[col_name])\n",
    "  print(f'values of {col_name}: {values}')"
   ],
   "metadata": {
    "id": "GElAM7xsdX9g",
    "is_executing": true
   },
   "execution_count": null,
   "outputs": []
  },
  {
   "cell_type": "code",
   "source": [
    "file_path = '../data/raw/invoices.csv'\n",
    "\n",
    "dtypes = {'invoice_number' : 'str',\n",
    "  'invoice_date' : 'str',\n",
    "  'customer_name' : 'str',\n",
    "  'item_name' : 'str',\n",
    "  'quantity' : 'int',\n",
    "  'price' : 'float',\n",
    "  'tax_rate' : 'float',\n",
    "  'total_amount' : 'float',\n",
    "  }\n",
    "\n",
    "parse_dates = ['invoice_date']\n"
   ],
   "metadata": {
    "id": "O99ry8hRZ6hK"
   },
   "execution_count": null,
   "outputs": []
  },
  {
   "cell_type": "code",
   "source": [
    "df = pd.read_csv(file_path, parse_dates=parse_dates, dtype=dtypes)\n",
    "display(df)"
   ],
   "metadata": {
    "id": "AgrE4TGTeb66"
   },
   "execution_count": null,
   "outputs": []
  },
  {
   "cell_type": "markdown",
   "source": [
    "# Summary statistics"
   ],
   "metadata": {
    "id": "2l4dF6fjfSEl"
   }
  },
  {
   "cell_type": "code",
   "source": [
    "summary_stats = df.describe(include = 'all')\n",
    "summary_stats.loc['dtype'] = df.dtypes\n",
    "summary_stats.loc['size'] = len(df)\n",
    "summary_stats.loc['nan_vals'] = df.isnull().sum()\n",
    "display(summary_stats)\n",
    "\n",
    "display_unique_vals(df, 'invoice_number')\n",
    "display_unique_vals(df, 'customer_name')\n",
    "display_unique_vals(df, 'item_name')"
   ],
   "metadata": {
    "id": "HLxDi_f_dglY"
   },
   "execution_count": null,
   "outputs": []
  },
  {
   "cell_type": "markdown",
   "source": [
    "# invoice_date"
   ],
   "metadata": {
    "id": "1wGFPW_RjxLY"
   }
  },
  {
   "cell_type": "code",
   "source": [
    "for key, value in df.groupby(['invoice_number']):\n",
    "  tmp = value[['invoice_number', 'invoice_date']]\n",
    "  display(tmp)"
   ],
   "metadata": {
    "id": "Wf4-vU0DgbWz"
   },
   "execution_count": null,
   "outputs": []
  },
  {
   "cell_type": "markdown",
   "source": [
    "Same invoice number seems to mean that there were two transactions same date. Using this we can replace nan values in invoice_date column."
   ],
   "metadata": {
    "id": "kUX_PJByj9x7"
   }
  },
  {
   "cell_type": "code",
   "source": [
    "for key, value in df.groupby(['invoice_number'], dropna=True):\n",
    "  df_most_occ_val = value[['invoice_date']].mode()\n",
    "  most_occ_val = df_most_occ_val['invoice_date'].item()\n",
    "  df.loc[df['invoice_number'] == key, 'invoice_date'] = most_occ_val\n"
   ],
   "metadata": {
    "id": "AsgiDUm1kJ3Z"
   },
   "execution_count": null,
   "outputs": []
  },
  {
   "cell_type": "markdown",
   "source": [
    "# customer_name"
   ],
   "metadata": {
    "id": "KJuMeLLEmw1V"
   }
  },
  {
   "cell_type": "code",
   "source": [
    "for key, value in df.groupby(['tax_rate']):\n",
    "  tmp = value[['invoice_number', 'customer_name', 'tax_rate']]\n",
    "  display(tmp)"
   ],
   "metadata": {
    "id": "5Q-FDR55k7wR"
   },
   "execution_count": null,
   "outputs": []
  },
  {
   "cell_type": "markdown",
   "source": [
    "It seems that each customer has fixed tax rate. (**Not entirely sure** how the tax rate is defined, so assuming that each company has a specific tax rate and no company share a tax rate it's okay to assign the customer name based on the tax rate)."
   ],
   "metadata": {
    "id": "pWZG1TnsrQKP"
   }
  },
  {
   "cell_type": "code",
   "source": [
    "for key, value in df.groupby(['item_name']):\n",
    "  tmp = value[['invoice_number', 'customer_name',\t'item_name', 'tax_rate']]\n",
    "  display(tmp)"
   ],
   "metadata": {
    "id": "ayydLT6qqkCF"
   },
   "execution_count": null,
   "outputs": []
  },
  {
   "cell_type": "markdown",
   "source": [
    "Can't rely on item name to fill out customer name as different customers buy same items"
   ],
   "metadata": {
    "id": "YbqVRSRVrTAA"
   }
  },
  {
   "cell_type": "code",
   "source": [
    "for key, value in df.groupby(['tax_rate'], dropna=True):\n",
    "  df_most_occ_val = value[['customer_name']].mode()\n",
    "  most_occ_val = df_most_occ_val['customer_name'].item()\n",
    "  df.loc[df['tax_rate'] == key, 'customer_name'] = most_occ_val\n"
   ],
   "metadata": {
    "id": "NsDuhgxyopeX"
   },
   "execution_count": null,
   "outputs": []
  },
  {
   "cell_type": "markdown",
   "source": [
    "# price"
   ],
   "metadata": {
    "id": "Mf_HKOJ8rcHy"
   }
  },
  {
   "cell_type": "markdown",
   "source": [
    "Based on summary statistics some prices are negative. That shouldn't be possible, unless invoices also include returns, but it's not defined."
   ],
   "metadata": {
    "id": "aHf6I2xprmwW"
   }
  },
  {
   "cell_type": "code",
   "source": [
    "df['price'] = df['price'].abs()"
   ],
   "metadata": {
    "id": "Ww_YymzvriYn"
   },
   "execution_count": null,
   "outputs": []
  },
  {
   "cell_type": "markdown",
   "source": [
    "# item_name"
   ],
   "metadata": {
    "id": "rJQYK9pdsR2G"
   }
  },
  {
   "cell_type": "code",
   "source": [
    "for key, value in df.groupby(['price']):\n",
    "  tmp = value[['item_name', 'price']]\n",
    "  display(tmp)"
   ],
   "metadata": {
    "id": "cGWTgRznsWGA"
   },
   "execution_count": null,
   "outputs": []
  },
  {
   "cell_type": "markdown",
   "source": [
    "Assuming that no items shares the same price, then we can assign new name to unknown item"
   ],
   "metadata": {
    "id": "yGB-WM9dst0j"
   }
  },
  {
   "cell_type": "code",
   "source": [
    "df.loc[df['price'] == 20, 'item_name'] = \"Widget E\""
   ],
   "metadata": {
    "id": "pwZUcuJ2sWSt"
   },
   "execution_count": null,
   "outputs": []
  },
  {
   "cell_type": "markdown",
   "source": [
    "# quantity"
   ],
   "metadata": {
    "id": "XyH8OWsTtrTp"
   }
  },
  {
   "cell_type": "markdown",
   "source": [
    "Based on summary statistics some quantities are negative. That shouldn't be possible, unless invoices also include returns, but it's not defined."
   ],
   "metadata": {
    "id": "lfcpOWB0twrO"
   }
  },
  {
   "cell_type": "code",
   "source": [
    "df['quantity'] = df['quantity'].abs()"
   ],
   "metadata": {
    "id": "ry5UW0fNtcLs"
   },
   "execution_count": null,
   "outputs": []
  },
  {
   "cell_type": "markdown",
   "source": [
    "# tax_rate"
   ],
   "metadata": {
    "id": "fQvAfM2Wt7n3"
   }
  },
  {
   "cell_type": "code",
   "source": [
    "for key, value in df.groupby(['customer_name']):\n",
    "  tmp = value[['customer_name', 'tax_rate']]\n",
    "  display(tmp)"
   ],
   "metadata": {
    "id": "sasXNAq0t3Uq"
   },
   "execution_count": null,
   "outputs": []
  },
  {
   "cell_type": "markdown",
   "source": [
    "It seems that each customer has fixed tax rate. (**Not entirely sure** how the tax rate is defined, so assuming that each company has a specific tax rate and no company share a tax rate it's okay to assign the customer name based on the tax rate). **bold text**"
   ],
   "metadata": {
    "id": "OVN5eOy9uVB8"
   }
  },
  {
   "cell_type": "code",
   "source": [
    "for key, value in df.groupby(['customer_name'], dropna=True):\n",
    "  df_most_occ_val = value[['tax_rate']].mode()\n",
    "  most_occ_val = df_most_occ_val['tax_rate'].item()\n",
    "  df.loc[df['customer_name'] == key, 'tax_rate'] = most_occ_val\n"
   ],
   "metadata": {
    "id": "O07qtGJtuC9Z"
   },
   "execution_count": null,
   "outputs": []
  },
  {
   "cell_type": "markdown",
   "source": [
    "# total_amount"
   ],
   "metadata": {
    "id": "dxNm-L1eufKu"
   }
  },
  {
   "cell_type": "code",
   "source": [
    "filtered_df = df[df['total_amount'].notnull()]\n",
    "price_before_taxes = filtered_df['quantity'] * filtered_df['price']\n",
    "price_after_taxes = price_before_taxes + price_before_taxes * filtered_df['tax_rate']\n",
    "np.isclose(filtered_df['total_amount'], price_after_taxes)"
   ],
   "metadata": {
    "id": "zC3wRIYxup09"
   },
   "execution_count": null,
   "outputs": []
  },
  {
   "cell_type": "markdown",
   "source": [
    "It seems that non nan total amounts are calculated correctly so we can only calculate nan total amount values"
   ],
   "metadata": {
    "id": "DVqsUMYzyMH9"
   }
  },
  {
   "cell_type": "code",
   "source": [
    "filtered_df = df[df['total_amount'].isnull()]\n",
    "price_before_taxes = filtered_df['quantity'] * filtered_df['price']\n",
    "price_after_taxes = price_before_taxes + price_before_taxes * filtered_df['tax_rate']\n",
    "df.loc[df['total_amount'].isnull(), 'total_amount'] = price_after_taxes"
   ],
   "metadata": {
    "id": "V6A49rShxncc"
   },
   "execution_count": null,
   "outputs": []
  },
  {
   "cell_type": "markdown",
   "source": [
    "# End result (Summary statistics)"
   ],
   "metadata": {
    "id": "jNqTyk0vzGYC"
   }
  },
  {
   "cell_type": "code",
   "source": [
    "display(df)"
   ],
   "metadata": {
    "id": "ByNmL44EzsF3"
   },
   "execution_count": null,
   "outputs": []
  },
  {
   "cell_type": "code",
   "source": [
    "summary_stats = df.describe(include = 'all')\n",
    "summary_stats.loc['dtype'] = df.dtypes\n",
    "summary_stats.loc['size'] = len(df)\n",
    "summary_stats.loc['nan_vals'] = df.isnull().sum()\n",
    "display(summary_stats)\n",
    "\n",
    "display_unique_vals(df, 'invoice_number')\n",
    "display_unique_vals(df, 'customer_name')\n",
    "display_unique_vals(df, 'item_name')\n",
    "display(df)"
   ],
   "metadata": {
    "id": "LX_IZGRKyzXG"
   },
   "execution_count": null,
   "outputs": []
  }
 ]
}
